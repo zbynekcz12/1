{
  "nbformat": 4,
  "nbformat_minor": 0,
  "metadata": {
    "colab": {
      "private_outputs": true,
      "provenance": [],
      "authorship_tag": "ABX9TyPSU0u5lAKyMZm/TTIPDZZU",
      "include_colab_link": true
    },
    "kernelspec": {
      "name": "python3",
      "display_name": "Python 3"
    },
    "language_info": {
      "name": "python"
    }
  },
  "cells": [
    {
      "cell_type": "markdown",
      "metadata": {
        "id": "view-in-github",
        "colab_type": "text"
      },
      "source": [
        "<a href=\"https://colab.research.google.com/github/zbynekcz12/1/blob/main/Untitled69.ipynb\" target=\"_parent\"><img src=\"https://colab.research.google.com/assets/colab-badge.svg\" alt=\"Open In Colab\"/></a>"
      ]
    },
    {
      "cell_type": "code",
      "source": [
        "!pip install tensorflow"
      ],
      "metadata": {
        "collapsed": true,
        "id": "UZQHOKDK-k2z"
      },
      "execution_count": null,
      "outputs": []
    },
    {
      "cell_type": "code",
      "source": [
        "!pip install keras"
      ],
      "metadata": {
        "id": "o5178OQ0-yvk"
      },
      "execution_count": null,
      "outputs": []
    },
    {
      "cell_type": "markdown",
      "source": [],
      "metadata": {
        "id": "bepfncdh-4zV"
      }
    },
    {
      "cell_type": "code",
      "source": [
        "!pip install numpy"
      ],
      "metadata": {
        "id": "knJtqAk9-5DP"
      },
      "execution_count": null,
      "outputs": []
    },
    {
      "cell_type": "code",
      "source": [
        "!pip install pandas"
      ],
      "metadata": {
        "id": "e-VanENS-9bU"
      },
      "execution_count": null,
      "outputs": []
    },
    {
      "cell_type": "code",
      "source": [
        "import numpy as np\n",
        "import pandas as pd\n",
        "import tensorflow as tf\n",
        "from tensorflow.keras.models import Sequential\n",
        "from tensorflow.keras.layers import LSTM, Dense\n",
        "from sklearn.preprocessing import MinMaxScaler\n",
        "from sklearn.metrics import mean_squared_error\n",
        "import matplotlib.pyplot as plt\n",
        "\n",
        "# Vytvoření datových sad pro trénování a testování\n",
        "train_size = int(len(scaled_data) * 0.8)\n",
        "train_data = scaled_data[:train_size]\n",
        "test_data = scaled_data[train_size:]\n",
        "\n",
        "# Funkce pro vytvoření datových sad pro LSTM\n",
        "def create_dataset(dataset, time_step=1):\n",
        "    X, Y = [], []\n",
        "    for i in range(len(dataset)-time_step-1):\n",
        "        a = dataset[i:(i+time_step), 0]\n",
        "        X.append(a)\n",
        "        Y.append(dataset[i + time_step, 0])\n",
        "    return np.array(X), np.array(Y)\n",
        "\n",
        "time_step = 10\n",
        "X_train, y_train = create_dataset(train_data, time_step)\n",
        "X_test, y_test = create_dataset(test_data, time_step)\n",
        "\n",
        "# Převod na 3D pole pro LSTM (počet vzorků, časový krok, počet feature)\n",
        "X_train = X_train.reshape(X_train.shape[0], X_train.shape[1], 1)\n",
        "X_test = X_test.reshape(X_test.shape[0], X_test.shape[1], 1)\n",
        "\n",
        "# Vytvoření LSTM modelu\n",
        "model = Sequential()\n",
        "model.add(LSTM(50, return_sequences=True, input_shape=(time_step, 1)))\n",
        "model.add(LSTM(50, return_sequences=False))\n",
        "model.add(Dense(1))\n",
        "model.compile(optimizer='adam', loss='mean_squared_error')\n",
        "\n",
        "# Trénování modelu\n",
        "model.fit(X_train, y_train, epochs=20, batch_size=1, validation_data=(X_test, y_test), verbose=2)\n",
        "\n",
        "# Predikce\n",
        "train_predict = model.predict(X_train)\n",
        "test_predict = model.predict(X_test)\n",
        "\n",
        "# Inverzní transformace pro vyhodnocení\n",
        "train_predict = scaler.inverse_transform(train_predict)\n",
        "test_predict = scaler.inverse_transform(test_predict)\n",
        "y_train = scaler.inverse_transform([y_train])\n",
        "y_test = scaler.inverse_transform([y_test])\n",
        "\n",
        "# Výpočet RMSE\n",
        "train_score = np.sqrt(mean_squared_error(y_train[0], train_predict[:,0]))\n",
        "test_score = np.sqrt(mean_squared_error(y_test[0], test_predict[:,0]))\n",
        "print(f'Train Score: {train_score:.2f} RMSE')\n",
        "print(f'Test Score: {test_score:.2f} RMSE')\n",
        "\n",
        "# Grafy\n",
        "train_predict_plot = np.empty_like(scaled_data)\n",
        "train_predict_plot[:, :] = np.nan\n",
        "train_predict_plot[time_step:len(train_predict)+time_step, :] = train_predict\n",
        "\n",
        "test_predict_plot = np.empty_like(scaled_data)\n",
        "test_predict_plot[:, :] = np.nan\n",
        "test_predict_plot[len(train_predict)+(time_step*2)+1:len(scaled_data)-1, :] = test_predict\n",
        "\n",
        "plt.plot(scaler.inverse_transform(scaled_data))\n",
        "plt.plot(train_predict_plot)\n",
        "plt.plot(test_predict_plot)\n",
        "plt.show()"
      ],
      "metadata": {
        "id": "3FMRo76s_SAi"
      },
      "execution_count": null,
      "outputs": []
    },
    {
      "cell_type": "code",
      "source": [
        "import numpy as np\n",
        "import pandas as pd\n",
        "import tensorflow as tf\n",
        "from tensorflow.keras.models import Sequential\n",
        "from tensorflow.keras.layers import LSTM, Dense\n",
        "from sklearn.preprocessing import MinMaxScaler\n",
        "from sklearn.metrics import mean_squared_error\n",
        "import matplotlib.pyplot as plt\n",
        "\n",
        "# Generování simulovaných dat\n",
        "np.random.seed(42)\n",
        "dates = pd.date_range(start='2020-01-01', periods=1000, freq='D')\n",
        "prices = np.sin(np.arange(0, 10, 0.01)) * 100 + 200 + np.random.normal(0, 10, 1000)\n",
        "data = pd.DataFrame({'Date': dates, 'Price': prices})\n",
        "data.set_index('Date', inplace=True)\n",
        "\n",
        "# Normalizace dat\n",
        "scaler = MinMaxScaler(feature_range=(0, 1))\n",
        "scaled_data = scaler.fit_transform(data)\n",
        "\n",
        "# Vytvoření datových sad pro trénování a testování\n",
        "train_size = int(len(scaled_data) * 0.8)\n",
        "train_data = scaled_data[:train_size]\n",
        "test_data = scaled_data[train_size:]\n",
        "\n",
        "# Funkce pro vytvoření datových sad pro LSTM\n",
        "def create_dataset(dataset, time_step=1):\n",
        "    X, Y = [], []\n",
        "    for i in range(len(dataset)-time_step-1):\n",
        "        a = dataset[i:(i+time_step), 0]\n",
        "        X.append(a)\n",
        "        Y.append(dataset[i + time_step, 0])\n",
        "    return np.array(X), np.array(Y)\n",
        "\n",
        "time_step = 10\n",
        "X_train, y_train = create_dataset(train_data, time_step)\n",
        "X_test, y_test = create_dataset(test_data, time_step)\n",
        "\n",
        "# Převod na 3D pole pro LSTM (počet vzorků, časový krok, počet feature)\n",
        "X_train = X_train.reshape(X_train.shape[0], X_train.shape[1], 1)\n",
        "X_test = X_test.reshape(X_test.shape[0], X_test.shape[1], 1)\n",
        "\n",
        "# Vytvoření LSTM modelu\n",
        "model = Sequential()\n",
        "model.add(LSTM(50, return_sequences=True, input_shape=(time_step, 1)))\n",
        "model.add(LSTM(50, return_sequences=False))\n",
        "model.add(Dense(1))\n",
        "model.compile(optimizer='adam', loss='mean_squared_error')\n",
        "\n",
        "# Trénování modelu\n",
        "model.fit(X_train, y_train, epochs=20, batch_size=1, validation_data=(X_test, y_test), verbose=2)\n",
        "\n",
        "# Predikce\n",
        "train_predict = model.predict(X_train)\n",
        "test_predict = model.predict(X_test)\n",
        "\n",
        "# Inverzní transformace pro vyhodnocení\n",
        "train_predict = scaler.inverse_transform(train_predict)\n",
        "test_predict = scaler.inverse_transform(test_predict)\n",
        "y_train = scaler.inverse_transform([y_train])\n",
        "y_test = scaler.inverse_transform([y_test])\n",
        "\n",
        "# Výpočet RMSE\n",
        "train_score = np.sqrt(mean_squared_error(y_train[0], train_predict[:,0]))\n",
        "test_score = np.sqrt(mean_squared_error(y_test[0], test_predict[:,0]))\n",
        "print(f'Train Score: {train_score:.2f} RMSE')\n",
        "print(f'Test Score: {test_score:.2f} RMSE')\n",
        "\n",
        "# Grafy\n",
        "train_predict_plot = np.empty_like(scaled_data)\n",
        "train_predict_plot[:, :] = np.nan\n",
        "train_predict_plot[time_step:len(train_predict)+time_step, :] = train_predict\n",
        "\n",
        "test_predict_plot = np.empty_like(scaled_data)\n",
        "test_predict_plot[:, :] = np.nan\n",
        "test_predict_plot[len(train_predict)+(time_step*2)+1:len(scaled_data)-1, :] = test_predict\n",
        "\n",
        "plt.plot(scaler.inverse_transform(scaled_data))\n",
        "plt.plot(train_predict_plot)\n",
        "plt.plot(test_predict_plot)\n",
        "plt.show()"
      ],
      "metadata": {
        "id": "2K_Zv3pBAf8A"
      },
      "execution_count": null,
      "outputs": []
    },
    {
      "cell_type": "code",
      "source": [
        "https://www.youtube.com/watch?v=jOOJqyjV_84&list=RDGMEMQ1dJ7wXfLlqCjwV0xfSNbA&index=28\n"
      ],
      "metadata": {
        "id": "1W7i0J28MGIV"
      },
      "execution_count": null,
      "outputs": []
    },
    {
      "cell_type": "code",
      "source": [
        "!pip install spleeter\n"
      ],
      "metadata": {
        "id": "_jwncvULMiPO"
      },
      "execution_count": null,
      "outputs": []
    },
    {
      "cell_type": "code",
      "source": [
        "# Výpočet RMSE pro testovací data\n",
        "test_score = np.sqrt(mean_squared_error(y_test[0], test_predict[:,0]))\n",
        "print(f'Test Score: {test_score:.2f} RMSE')"
      ],
      "metadata": {
        "id": "UdGWAE9MBc3b"
      },
      "execution_count": null,
      "outputs": []
    },
    {
      "cell_type": "code",
      "source": [
        "# Grafy\n",
        "train_predict_plot = np.empty_like(scaled_data)\n",
        "train_predict_plot[:, :] = np.nan\n",
        "train_predict_plot[time_step:len(train_predict)+time_step, :] = train_predict\n",
        "\n",
        "test_predict_plot = np.empty_like(scaled_data)\n",
        "test_predict_plot[:, :] = np.nan\n",
        "test_predict_plot[len(train_predict)+(time_step*2)+1:len(scaled_data)-1, :] = test_predict\n",
        "\n",
        "plt.plot(scaler.inverse_transform(scaled_data), label='Skutečné hodnoty')\n",
        "plt.plot(train_predict_plot, label='Predikce na trénovacích datech')\n",
        "plt.plot(test_predict_plot, label='Predikce na testovacích datech')\n",
        "plt.legend()\n",
        "plt.show()"
      ],
      "metadata": {
        "id": "OlWItZb1Bk2v"
      },
      "execution_count": null,
      "outputs": []
    }
  ]
}