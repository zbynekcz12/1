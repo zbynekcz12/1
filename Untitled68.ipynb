{
  "nbformat": 4,
  "nbformat_minor": 0,
  "metadata": {
    "colab": {
      "private_outputs": true,
      "provenance": [],
      "authorship_tag": "ABX9TyPTvyXHEsm6k+6flFHACw8H",
      "include_colab_link": true
    },
    "kernelspec": {
      "name": "python3",
      "display_name": "Python 3"
    },
    "language_info": {
      "name": "python"
    }
  },
  "cells": [
    {
      "cell_type": "markdown",
      "metadata": {
        "id": "view-in-github",
        "colab_type": "text"
      },
      "source": [
        "<a href=\"https://colab.research.google.com/github/zbynekcz12/1/blob/main/Untitled68.ipynb\" target=\"_parent\"><img src=\"https://colab.research.google.com/assets/colab-badge.svg\" alt=\"Open In Colab\"/></a>"
      ]
    },
    {
      "cell_type": "code",
      "source": [
        "import time\n",
        "import math\n",
        "import random\n",
        "\n",
        "def simulate_gps_to_mgrs(gps_coords):\n",
        "    # Tato funkce by měla obsahovat skutečný převod GPS na MGRS, ale zde je pouze simulace\n",
        "    mgrs_coords = \"34TDR0123456789\"  # Příklad MGRS souřadnic\n",
        "    return mgrs_coords\n",
        "\n",
        "def calculate_distance(current_coords, target_coords):\n",
        "    # Jednoduchý výpočet vzdálenosti mezi dvěma body (Euklidovská vzdálenost)\n",
        "    return math.sqrt((target_coords[0] - current_coords[0])**2 + (target_coords[1] - current_coords[1])**2)\n",
        "\n",
        "def main():\n",
        "    # Náhodně generované souřadnice cíle\n",
        "    target_coords = (random.uniform(0.0, 0.1), random.uniform(0.0, 0.1), random.uniform(0.0, 0.1))\n",
        "\n",
        "    # Simulované počáteční souřadnice rakety\n",
        "    current_coords = (0.0, 0.0, 0.0)\n",
        "\n",
        "    print(\"Simulace navádění rakety zahájena.\")\n",
        "    print(f\"Cíl je na souřadnicích X:{target_coords[0]:.6f}, Y:{target_coords[1]:.6f}, Z:{target_coords[2]:.6f}\")\n",
        "\n",
        "    while True:\n",
        "        # Simulace postupného přibližování se k cíli\n",
        "        distance_to_target = calculate_distance((current_coords[0], current_coords[1]), (target_coords[0], target_coords[1]))\n",
        "        print(f\"Vzdálenost k cíli: {distance_to_target:.6f} jednotek\")\n",
        "\n",
        "        if distance_to_target < 0.001:\n",
        "            print(\"Raketa dorazila do cíle.\")\n",
        "            break\n",
        "\n",
        "        # Simulace pohybu rakety směrem k cíli\n",
        "        current_coords = (current_coords[0] + (target_coords[0] - current_coords[0]) * 0.1,\n",
        "                          current_coords[1] + (target_coords[1] - current_coords[1]) * 0.1,\n",
        "                          current_coords[2] + (target_coords[2] - current_coords[2]) * 0.1)\n",
        "\n",
        "        time.sleep(1)  # Simulace časového odstupu mezi aktualizacemi\n",
        "\n",
        "if __name__ == \"__main__\":\n",
        "    main()"
      ],
      "metadata": {
        "id": "AA42EcDIsWoR"
      },
      "execution_count": null,
      "outputs": []
    }
  ]
}